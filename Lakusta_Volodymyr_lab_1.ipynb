{
  "nbformat": 4,
  "nbformat_minor": 0,
  "metadata": {
    "colab": {
      "name": "Lakusta_Volodymyr_lab_1.ipynb",
      "version": "0.3.2",
      "provenance": [],
      "collapsed_sections": [],
      "toc_visible": true
    },
    "kernelspec": {
      "name": "python3",
      "display_name": "Python 3"
    }
  },
  "cells": [
    {
      "metadata": {
        "id": "nf6hq-x_vCsy",
        "colab_type": "text"
      },
      "cell_type": "markdown",
      "source": [
        "# Практична частина 1"
      ]
    },
    {
      "metadata": {
        "id": "WSZDIO_tvJEE",
        "colab_type": "text"
      },
      "cell_type": "markdown",
      "source": [
        "\n",
        "\n",
        "\n",
        "\n",
        "## Підготовка даних"
      ]
    },
    {
      "metadata": {
        "id": "WZ-G8BYMvbD9",
        "colab_type": "code",
        "outputId": "43c931ac-135b-462d-bad4-35d58ba7fbde",
        "colab": {
          "base_uri": "https://localhost:8080/",
          "height": 283
        }
      },
      "cell_type": "code",
      "source": [
        "import pandas as pd\n",
        "#https://www.kaggle.com/rush4ratio/video-game-sales-with-ratings\n",
        "\n",
        "url = \"http://www.sharecsv.com/dl/9c2de61ee08b02b0e62fc28f0d3d6408/Video_Games_Sales_as_at_22_Dec_2016.csv\"\n",
        "df = pd.read_csv(url)\n",
        "df.head()\n"
      ],
      "execution_count": 1,
      "outputs": [
        {
          "output_type": "execute_result",
          "data": {
            "text/html": [
              "<div>\n",
              "<style scoped>\n",
              "    .dataframe tbody tr th:only-of-type {\n",
              "        vertical-align: middle;\n",
              "    }\n",
              "\n",
              "    .dataframe tbody tr th {\n",
              "        vertical-align: top;\n",
              "    }\n",
              "\n",
              "    .dataframe thead th {\n",
              "        text-align: right;\n",
              "    }\n",
              "</style>\n",
              "<table border=\"1\" class=\"dataframe\">\n",
              "  <thead>\n",
              "    <tr style=\"text-align: right;\">\n",
              "      <th></th>\n",
              "      <th>Name</th>\n",
              "      <th>Platform</th>\n",
              "      <th>Year_of_Release</th>\n",
              "      <th>Genre</th>\n",
              "      <th>Publisher</th>\n",
              "      <th>NA_Sales</th>\n",
              "      <th>EU_Sales</th>\n",
              "      <th>JP_Sales</th>\n",
              "      <th>Other_Sales</th>\n",
              "      <th>Global_Sales</th>\n",
              "      <th>Critic_Score</th>\n",
              "      <th>Critic_Count</th>\n",
              "      <th>User_Score</th>\n",
              "      <th>User_Count</th>\n",
              "      <th>Developer</th>\n",
              "      <th>Rating</th>\n",
              "    </tr>\n",
              "  </thead>\n",
              "  <tbody>\n",
              "    <tr>\n",
              "      <th>0</th>\n",
              "      <td>Wii Sports</td>\n",
              "      <td>Wii</td>\n",
              "      <td>2006.0</td>\n",
              "      <td>Sports</td>\n",
              "      <td>Nintendo</td>\n",
              "      <td>41.36</td>\n",
              "      <td>28.96</td>\n",
              "      <td>3.77</td>\n",
              "      <td>8.45</td>\n",
              "      <td>82.53</td>\n",
              "      <td>76.0</td>\n",
              "      <td>51.0</td>\n",
              "      <td>8</td>\n",
              "      <td>322.0</td>\n",
              "      <td>Nintendo</td>\n",
              "      <td>E</td>\n",
              "    </tr>\n",
              "    <tr>\n",
              "      <th>1</th>\n",
              "      <td>Super Mario Bros.</td>\n",
              "      <td>NES</td>\n",
              "      <td>1985.0</td>\n",
              "      <td>Platform</td>\n",
              "      <td>Nintendo</td>\n",
              "      <td>29.08</td>\n",
              "      <td>3.58</td>\n",
              "      <td>6.81</td>\n",
              "      <td>0.77</td>\n",
              "      <td>40.24</td>\n",
              "      <td>NaN</td>\n",
              "      <td>NaN</td>\n",
              "      <td>NaN</td>\n",
              "      <td>NaN</td>\n",
              "      <td>NaN</td>\n",
              "      <td>NaN</td>\n",
              "    </tr>\n",
              "    <tr>\n",
              "      <th>2</th>\n",
              "      <td>Mario Kart Wii</td>\n",
              "      <td>Wii</td>\n",
              "      <td>2008.0</td>\n",
              "      <td>Racing</td>\n",
              "      <td>Nintendo</td>\n",
              "      <td>15.68</td>\n",
              "      <td>12.76</td>\n",
              "      <td>3.79</td>\n",
              "      <td>3.29</td>\n",
              "      <td>35.52</td>\n",
              "      <td>82.0</td>\n",
              "      <td>73.0</td>\n",
              "      <td>8.3</td>\n",
              "      <td>709.0</td>\n",
              "      <td>Nintendo</td>\n",
              "      <td>E</td>\n",
              "    </tr>\n",
              "    <tr>\n",
              "      <th>3</th>\n",
              "      <td>Wii Sports Resort</td>\n",
              "      <td>Wii</td>\n",
              "      <td>2009.0</td>\n",
              "      <td>Sports</td>\n",
              "      <td>Nintendo</td>\n",
              "      <td>15.61</td>\n",
              "      <td>10.93</td>\n",
              "      <td>3.28</td>\n",
              "      <td>2.95</td>\n",
              "      <td>32.77</td>\n",
              "      <td>80.0</td>\n",
              "      <td>73.0</td>\n",
              "      <td>8</td>\n",
              "      <td>192.0</td>\n",
              "      <td>Nintendo</td>\n",
              "      <td>E</td>\n",
              "    </tr>\n",
              "    <tr>\n",
              "      <th>4</th>\n",
              "      <td>Pokemon Red/Pokemon Blue</td>\n",
              "      <td>GB</td>\n",
              "      <td>1996.0</td>\n",
              "      <td>Role-Playing</td>\n",
              "      <td>Nintendo</td>\n",
              "      <td>11.27</td>\n",
              "      <td>8.89</td>\n",
              "      <td>10.22</td>\n",
              "      <td>1.00</td>\n",
              "      <td>31.37</td>\n",
              "      <td>NaN</td>\n",
              "      <td>NaN</td>\n",
              "      <td>NaN</td>\n",
              "      <td>NaN</td>\n",
              "      <td>NaN</td>\n",
              "      <td>NaN</td>\n",
              "    </tr>\n",
              "  </tbody>\n",
              "</table>\n",
              "</div>"
            ],
            "text/plain": [
              "                       Name Platform  Year_of_Release         Genre Publisher  \\\n",
              "0                Wii Sports      Wii           2006.0        Sports  Nintendo   \n",
              "1         Super Mario Bros.      NES           1985.0      Platform  Nintendo   \n",
              "2            Mario Kart Wii      Wii           2008.0        Racing  Nintendo   \n",
              "3         Wii Sports Resort      Wii           2009.0        Sports  Nintendo   \n",
              "4  Pokemon Red/Pokemon Blue       GB           1996.0  Role-Playing  Nintendo   \n",
              "\n",
              "   NA_Sales  EU_Sales  JP_Sales  Other_Sales  Global_Sales  Critic_Score  \\\n",
              "0     41.36     28.96      3.77         8.45         82.53          76.0   \n",
              "1     29.08      3.58      6.81         0.77         40.24           NaN   \n",
              "2     15.68     12.76      3.79         3.29         35.52          82.0   \n",
              "3     15.61     10.93      3.28         2.95         32.77          80.0   \n",
              "4     11.27      8.89     10.22         1.00         31.37           NaN   \n",
              "\n",
              "   Critic_Count User_Score  User_Count Developer Rating  \n",
              "0          51.0          8       322.0  Nintendo      E  \n",
              "1           NaN        NaN         NaN       NaN    NaN  \n",
              "2          73.0        8.3       709.0  Nintendo      E  \n",
              "3          73.0          8       192.0  Nintendo      E  \n",
              "4           NaN        NaN         NaN       NaN    NaN  "
            ]
          },
          "metadata": {
            "tags": []
          },
          "execution_count": 1
        }
      ]
    },
    {
      "metadata": {
        "id": "nEcc1Ghwt1pe",
        "colab_type": "code",
        "outputId": "ce778722-a183-4281-b1e9-727d1c5491ee",
        "colab": {
          "base_uri": "https://localhost:8080/",
          "height": 167
        }
      },
      "cell_type": "code",
      "source": [
        "# резюме колонки з глобальними продажами ігор\n",
        "df['Global_Sales'].describe()"
      ],
      "execution_count": 2,
      "outputs": [
        {
          "output_type": "execute_result",
          "data": {
            "text/plain": [
              "count    16719.000000\n",
              "mean         0.533543\n",
              "std          1.547935\n",
              "min          0.010000\n",
              "25%          0.060000\n",
              "50%          0.170000\n",
              "75%          0.470000\n",
              "max         82.530000\n",
              "Name: Global_Sales, dtype: float64"
            ]
          },
          "metadata": {
            "tags": []
          },
          "execution_count": 2
        }
      ]
    },
    {
      "metadata": {
        "id": "YQwOh9vtt_Wk",
        "colab_type": "code",
        "outputId": "13378429-4146-4743-d26e-4c138ae32e32",
        "colab": {
          "base_uri": "https://localhost:8080/",
          "height": 50
        }
      },
      "cell_type": "code",
      "source": [
        "df['Global_Sales'].mode() # мода глобальних продаж в млн одиниць"
      ],
      "execution_count": 3,
      "outputs": [
        {
          "output_type": "execute_result",
          "data": {
            "text/plain": [
              "0    0.02\n",
              "dtype: float64"
            ]
          },
          "metadata": {
            "tags": []
          },
          "execution_count": 3
        }
      ]
    },
    {
      "metadata": {
        "id": "zi30SwrPuwH7",
        "colab_type": "code",
        "outputId": "ce46e94b-cecb-4d5f-e2a8-7f8290b5b38c",
        "colab": {
          "base_uri": "https://localhost:8080/",
          "height": 33
        }
      },
      "cell_type": "code",
      "source": [
        "df['Global_Sales'].median() # медіана продаж"
      ],
      "execution_count": 4,
      "outputs": [
        {
          "output_type": "execute_result",
          "data": {
            "text/plain": [
              "0.17"
            ]
          },
          "metadata": {
            "tags": []
          },
          "execution_count": 4
        }
      ]
    },
    {
      "metadata": {
        "id": "fSW7SWYQ0F3E",
        "colab_type": "code",
        "outputId": "b8062487-5d06-4d2f-d779-42094f3094de",
        "colab": {
          "base_uri": "https://localhost:8080/",
          "height": 283
        }
      },
      "cell_type": "code",
      "source": [
        "df['Global_Sales'] = pd.to_numeric(df['Global_Sales'],downcast='integer',errors='coerce')\n",
        "df.head()"
      ],
      "execution_count": 6,
      "outputs": [
        {
          "output_type": "execute_result",
          "data": {
            "text/html": [
              "<div>\n",
              "<style scoped>\n",
              "    .dataframe tbody tr th:only-of-type {\n",
              "        vertical-align: middle;\n",
              "    }\n",
              "\n",
              "    .dataframe tbody tr th {\n",
              "        vertical-align: top;\n",
              "    }\n",
              "\n",
              "    .dataframe thead th {\n",
              "        text-align: right;\n",
              "    }\n",
              "</style>\n",
              "<table border=\"1\" class=\"dataframe\">\n",
              "  <thead>\n",
              "    <tr style=\"text-align: right;\">\n",
              "      <th></th>\n",
              "      <th>Name</th>\n",
              "      <th>Platform</th>\n",
              "      <th>Year_of_Release</th>\n",
              "      <th>Genre</th>\n",
              "      <th>Publisher</th>\n",
              "      <th>NA_Sales</th>\n",
              "      <th>EU_Sales</th>\n",
              "      <th>JP_Sales</th>\n",
              "      <th>Other_Sales</th>\n",
              "      <th>Global_Sales</th>\n",
              "      <th>Critic_Score</th>\n",
              "      <th>Critic_Count</th>\n",
              "      <th>User_Score</th>\n",
              "      <th>User_Count</th>\n",
              "      <th>Developer</th>\n",
              "      <th>Rating</th>\n",
              "    </tr>\n",
              "  </thead>\n",
              "  <tbody>\n",
              "    <tr>\n",
              "      <th>0</th>\n",
              "      <td>Wii Sports</td>\n",
              "      <td>Wii</td>\n",
              "      <td>2006.0</td>\n",
              "      <td>Sports</td>\n",
              "      <td>Nintendo</td>\n",
              "      <td>41.36</td>\n",
              "      <td>28.96</td>\n",
              "      <td>3.77</td>\n",
              "      <td>8.45</td>\n",
              "      <td>82.53</td>\n",
              "      <td>76.0</td>\n",
              "      <td>51.0</td>\n",
              "      <td>8</td>\n",
              "      <td>322.0</td>\n",
              "      <td>Nintendo</td>\n",
              "      <td>E</td>\n",
              "    </tr>\n",
              "    <tr>\n",
              "      <th>1</th>\n",
              "      <td>Super Mario Bros.</td>\n",
              "      <td>NES</td>\n",
              "      <td>1985.0</td>\n",
              "      <td>Platform</td>\n",
              "      <td>Nintendo</td>\n",
              "      <td>29.08</td>\n",
              "      <td>3.58</td>\n",
              "      <td>6.81</td>\n",
              "      <td>0.77</td>\n",
              "      <td>40.24</td>\n",
              "      <td>NaN</td>\n",
              "      <td>NaN</td>\n",
              "      <td>NaN</td>\n",
              "      <td>NaN</td>\n",
              "      <td>NaN</td>\n",
              "      <td>NaN</td>\n",
              "    </tr>\n",
              "    <tr>\n",
              "      <th>2</th>\n",
              "      <td>Mario Kart Wii</td>\n",
              "      <td>Wii</td>\n",
              "      <td>2008.0</td>\n",
              "      <td>Racing</td>\n",
              "      <td>Nintendo</td>\n",
              "      <td>15.68</td>\n",
              "      <td>12.76</td>\n",
              "      <td>3.79</td>\n",
              "      <td>3.29</td>\n",
              "      <td>35.52</td>\n",
              "      <td>82.0</td>\n",
              "      <td>73.0</td>\n",
              "      <td>8.3</td>\n",
              "      <td>709.0</td>\n",
              "      <td>Nintendo</td>\n",
              "      <td>E</td>\n",
              "    </tr>\n",
              "    <tr>\n",
              "      <th>3</th>\n",
              "      <td>Wii Sports Resort</td>\n",
              "      <td>Wii</td>\n",
              "      <td>2009.0</td>\n",
              "      <td>Sports</td>\n",
              "      <td>Nintendo</td>\n",
              "      <td>15.61</td>\n",
              "      <td>10.93</td>\n",
              "      <td>3.28</td>\n",
              "      <td>2.95</td>\n",
              "      <td>32.77</td>\n",
              "      <td>80.0</td>\n",
              "      <td>73.0</td>\n",
              "      <td>8</td>\n",
              "      <td>192.0</td>\n",
              "      <td>Nintendo</td>\n",
              "      <td>E</td>\n",
              "    </tr>\n",
              "    <tr>\n",
              "      <th>4</th>\n",
              "      <td>Pokemon Red/Pokemon Blue</td>\n",
              "      <td>GB</td>\n",
              "      <td>1996.0</td>\n",
              "      <td>Role-Playing</td>\n",
              "      <td>Nintendo</td>\n",
              "      <td>11.27</td>\n",
              "      <td>8.89</td>\n",
              "      <td>10.22</td>\n",
              "      <td>1.00</td>\n",
              "      <td>31.37</td>\n",
              "      <td>NaN</td>\n",
              "      <td>NaN</td>\n",
              "      <td>NaN</td>\n",
              "      <td>NaN</td>\n",
              "      <td>NaN</td>\n",
              "      <td>NaN</td>\n",
              "    </tr>\n",
              "  </tbody>\n",
              "</table>\n",
              "</div>"
            ],
            "text/plain": [
              "                       Name Platform  Year_of_Release         Genre Publisher  \\\n",
              "0                Wii Sports      Wii           2006.0        Sports  Nintendo   \n",
              "1         Super Mario Bros.      NES           1985.0      Platform  Nintendo   \n",
              "2            Mario Kart Wii      Wii           2008.0        Racing  Nintendo   \n",
              "3         Wii Sports Resort      Wii           2009.0        Sports  Nintendo   \n",
              "4  Pokemon Red/Pokemon Blue       GB           1996.0  Role-Playing  Nintendo   \n",
              "\n",
              "   NA_Sales  EU_Sales  JP_Sales  Other_Sales  Global_Sales  Critic_Score  \\\n",
              "0     41.36     28.96      3.77         8.45         82.53          76.0   \n",
              "1     29.08      3.58      6.81         0.77         40.24           NaN   \n",
              "2     15.68     12.76      3.79         3.29         35.52          82.0   \n",
              "3     15.61     10.93      3.28         2.95         32.77          80.0   \n",
              "4     11.27      8.89     10.22         1.00         31.37           NaN   \n",
              "\n",
              "   Critic_Count User_Score  User_Count Developer Rating  \n",
              "0          51.0          8       322.0  Nintendo      E  \n",
              "1           NaN        NaN         NaN       NaN    NaN  \n",
              "2          73.0        8.3       709.0  Nintendo      E  \n",
              "3          73.0          8       192.0  Nintendo      E  \n",
              "4           NaN        NaN         NaN       NaN    NaN  "
            ]
          },
          "metadata": {
            "tags": []
          },
          "execution_count": 6
        }
      ]
    },
    {
      "metadata": {
        "id": "sbZiZ365xRsE",
        "colab_type": "code",
        "colab": {
          "base_uri": "https://localhost:8080/",
          "height": 33
        },
        "outputId": "4e7faac4-0d2c-4331-b067-2c96d24198f8"
      },
      "cell_type": "code",
      "source": [
        "# середнє гармонічне\n",
        "\n",
        "from scipy.stats.mstats import hmean\n",
        "\n",
        "\n",
        "\n",
        "hmean(df['Global_Sales'], axis=0)"
      ],
      "execution_count": 10,
      "outputs": [
        {
          "output_type": "execute_result",
          "data": {
            "text/plain": [
              "0.06864925650072846"
            ]
          },
          "metadata": {
            "tags": []
          },
          "execution_count": 10
        }
      ]
    },
    {
      "metadata": {
        "id": "7Jj320alw8Gn",
        "colab_type": "code",
        "outputId": "5c78e00d-154a-479f-c17b-4cbedf630895",
        "colab": {
          "base_uri": "https://localhost:8080/",
          "height": 33
        }
      },
      "cell_type": "code",
      "source": [
        "# середнє геометричне продаж\n",
        "from scipy.stats.mstats import gmean\n",
        "\n",
        "\n",
        "gmean(df['Global_Sales'], axis=0)"
      ],
      "execution_count": 9,
      "outputs": [
        {
          "output_type": "execute_result",
          "data": {
            "text/plain": [
              "0.1731138690020114"
            ]
          },
          "metadata": {
            "tags": []
          },
          "execution_count": 9
        }
      ]
    },
    {
      "metadata": {
        "id": "yEZe86dOw1sK",
        "colab_type": "code",
        "outputId": "e40cb79f-ff16-4084-834f-a3534d648d1b",
        "colab": {
          "base_uri": "https://localhost:8080/",
          "height": 196
        }
      },
      "cell_type": "code",
      "source": [
        "# варіаціний ряд\n",
        "import numpy as np\n",
        "df['Global_Sales'].quantile(np.linspace(.1, 1, 9, 0))\n",
        "df.dropna().quantile([0.0, .3, .7, .9, .99])"
      ],
      "execution_count": 11,
      "outputs": [
        {
          "output_type": "execute_result",
          "data": {
            "text/html": [
              "<div>\n",
              "<style scoped>\n",
              "    .dataframe tbody tr th:only-of-type {\n",
              "        vertical-align: middle;\n",
              "    }\n",
              "\n",
              "    .dataframe tbody tr th {\n",
              "        vertical-align: top;\n",
              "    }\n",
              "\n",
              "    .dataframe thead th {\n",
              "        text-align: right;\n",
              "    }\n",
              "</style>\n",
              "<table border=\"1\" class=\"dataframe\">\n",
              "  <thead>\n",
              "    <tr style=\"text-align: right;\">\n",
              "      <th></th>\n",
              "      <th>Year_of_Release</th>\n",
              "      <th>NA_Sales</th>\n",
              "      <th>EU_Sales</th>\n",
              "      <th>JP_Sales</th>\n",
              "      <th>Other_Sales</th>\n",
              "      <th>Global_Sales</th>\n",
              "      <th>Critic_Score</th>\n",
              "      <th>Critic_Count</th>\n",
              "      <th>User_Count</th>\n",
              "    </tr>\n",
              "  </thead>\n",
              "  <tbody>\n",
              "    <tr>\n",
              "      <th>0.00</th>\n",
              "      <td>1985.0</td>\n",
              "      <td>0.0000</td>\n",
              "      <td>0.0000</td>\n",
              "      <td>0.00</td>\n",
              "      <td>0.0000</td>\n",
              "      <td>0.0100</td>\n",
              "      <td>13.0</td>\n",
              "      <td>3.0</td>\n",
              "      <td>4.00</td>\n",
              "    </tr>\n",
              "    <tr>\n",
              "      <th>0.30</th>\n",
              "      <td>2005.0</td>\n",
              "      <td>0.0700</td>\n",
              "      <td>0.0200</td>\n",
              "      <td>0.00</td>\n",
              "      <td>0.0100</td>\n",
              "      <td>0.1400</td>\n",
              "      <td>65.0</td>\n",
              "      <td>16.0</td>\n",
              "      <td>13.00</td>\n",
              "    </tr>\n",
              "    <tr>\n",
              "      <th>0.70</th>\n",
              "      <td>2010.0</td>\n",
              "      <td>0.3200</td>\n",
              "      <td>0.1600</td>\n",
              "      <td>0.00</td>\n",
              "      <td>0.0600</td>\n",
              "      <td>0.6100</td>\n",
              "      <td>79.0</td>\n",
              "      <td>36.0</td>\n",
              "      <td>66.00</td>\n",
              "    </tr>\n",
              "    <tr>\n",
              "      <th>0.90</th>\n",
              "      <td>2013.0</td>\n",
              "      <td>0.9000</td>\n",
              "      <td>0.5400</td>\n",
              "      <td>0.13</td>\n",
              "      <td>0.1900</td>\n",
              "      <td>1.7100</td>\n",
              "      <td>86.0</td>\n",
              "      <td>56.0</td>\n",
              "      <td>351.00</td>\n",
              "    </tr>\n",
              "    <tr>\n",
              "      <th>0.99</th>\n",
              "      <td>2016.0</td>\n",
              "      <td>3.5552</td>\n",
              "      <td>2.5152</td>\n",
              "      <td>1.11</td>\n",
              "      <td>0.9504</td>\n",
              "      <td>7.1676</td>\n",
              "      <td>94.0</td>\n",
              "      <td>85.0</td>\n",
              "      <td>2693.44</td>\n",
              "    </tr>\n",
              "  </tbody>\n",
              "</table>\n",
              "</div>"
            ],
            "text/plain": [
              "      Year_of_Release  NA_Sales  EU_Sales  JP_Sales  Other_Sales  \\\n",
              "0.00           1985.0    0.0000    0.0000      0.00       0.0000   \n",
              "0.30           2005.0    0.0700    0.0200      0.00       0.0100   \n",
              "0.70           2010.0    0.3200    0.1600      0.00       0.0600   \n",
              "0.90           2013.0    0.9000    0.5400      0.13       0.1900   \n",
              "0.99           2016.0    3.5552    2.5152      1.11       0.9504   \n",
              "\n",
              "      Global_Sales  Critic_Score  Critic_Count  User_Count  \n",
              "0.00        0.0100          13.0           3.0        4.00  \n",
              "0.30        0.1400          65.0          16.0       13.00  \n",
              "0.70        0.6100          79.0          36.0       66.00  \n",
              "0.90        1.7100          86.0          56.0      351.00  \n",
              "0.99        7.1676          94.0          85.0     2693.44  "
            ]
          },
          "metadata": {
            "tags": []
          },
          "execution_count": 11
        }
      ]
    },
    {
      "metadata": {
        "id": "5BECNR_6vGuj",
        "colab_type": "code",
        "outputId": "38576d5d-dca2-45a4-b191-c41d2f09f476",
        "colab": {
          "base_uri": "https://localhost:8080/",
          "height": 33
        }
      },
      "cell_type": "code",
      "source": [
        "df['Global_Sales'].mean() # середнє арифметичне продаж\n",
        "\n"
      ],
      "execution_count": 34,
      "outputs": [
        {
          "output_type": "execute_result",
          "data": {
            "text/plain": [
              "0.5335426759973684"
            ]
          },
          "metadata": {
            "tags": []
          },
          "execution_count": 34
        }
      ]
    },
    {
      "metadata": {
        "id": "xEkW7_CA0zZT",
        "colab_type": "text"
      },
      "cell_type": "markdown",
      "source": [
        "## Відповіді на контрольні питання"
      ]
    },
    {
      "metadata": {
        "id": "800WAaOA1Edz",
        "colab_type": "text"
      },
      "cell_type": "markdown",
      "source": [
        "\n",
        "\n",
        "1.   Які основні емпіричні методи ви знаєте? Коротко опишіть їх суть.\n",
        "**Спостереження** — цілеспрямоване сприйняття явищ.\n",
        "**Опис** — фіксація засобами мови відомостей про об'єкти.\n",
        "**Вимірювання** — порівняння об'єктів по яких-небудь загальних властивостях.\n",
        "**Експеримент** — спостереження в спеціально створених контрольованих умовах.\n",
        " **Порівняння** — одночасне співвідносне дослідження і оцінка загальних для об'єктів властивостей та ознак.\n",
        "2.   Яка основна задача застосування емпіричних методів?\n",
        "Підтвердити або спростувати гіпотези на основі аналізу статистичних показників.\n",
        "3.   Що таке статистичний показник? Яка його суть?\n",
        "**Статистичним показником** називають узагальнену числову характеристику будь-якого масового явища в поєднанні з його якісною визначеністю в конкретних умовах місця і часу.\n",
        "\n",
        "4.   Опишіть суть закону великих чисел.\n",
        "**Закон великих чисел**: закономірність масового явища виявляється лише при досить великій кількості спостережень, коли відбувається взаємне погашення впливу випадкових причин, які мають місце в окремих випадках.\n",
        "5.   В чому полягає ключова небезпека при нерозумінні до якої області відноситься величина: \"Крайнестану\" чи \"Среднестану\"?\n",
        " Отримані результати можуть бути хибні.\n",
        "6.   Опишіть процес первинної обробки даних.\n",
        "Емпіричні дані, які ми отримуємо шляхом вимірювань або за допомогою імітаційного моделювання — мають пройти первинну обробку.\n",
        "\n",
        "**Вона включає**:\n",
        "* табуляцію\n",
        "* впорядкування у варіаційні послідовності (або ряди)\n",
        "* групування (при побудові інтервального варіаційного ряду)\n",
        "* побудову статистичного розподілу\n",
        "* обчислення окремих статистичних параметрів\n",
        "\n",
        "\n",
        "---\n",
        "\n",
        "\n",
        "7.   Що таке табуляція? Які види табуляції ви знаєте? За яких умов варто застосовувати кожен з них?\n",
        "**Проста табуляція** - це підрахунок кількості подій, які потрапляють в певну категорію, що базується на одній змінній. Простій табуляції піддаються відповіді, отримані як на основні, так і на класифікаційні питання.\n",
        "**Перехресна табуляція** - це підрахунок кількості подій, які потрапляють в кожну з декількох категорій, що базуються на двох або більше змінних, які розглядаються одночасно.\n",
        "8.   Що таке експеримент?\n",
        "\n",
        "**експеримент**  — спроба, дослід і вживається для позначення низки споріднених понять: дослід, цілеспрямоване спостереження, відтворення об'єкта дослідження, організація особливих умов його існування, перевірка передбачень.\n",
        "\n",
        "\n"
      ]
    },
    {
      "metadata": {
        "id": "qK7LdE4N1KXT",
        "colab_type": "text"
      },
      "cell_type": "markdown",
      "source": [
        "# Практична частина 2"
      ]
    },
    {
      "metadata": {
        "id": "UPuGKsIX1ViL",
        "colab_type": "text"
      },
      "cell_type": "markdown",
      "source": [
        "## Ініціалізація, підготовка датасету"
      ]
    },
    {
      "metadata": {
        "id": "sQTlr70d1amC",
        "colab_type": "code",
        "outputId": "9f01791c-4993-42ec-b126-8ff81191ecb4",
        "colab": {
          "base_uri": "https://localhost:8080/",
          "height": 283
        }
      },
      "cell_type": "code",
      "source": [
        "# підключимо бібліотеку pandas для обробки даних (вона вже встановлена в Colab)\n",
        "import pandas as pd\n",
        "\n",
        "# зазначимо url звідки ми візьмемо дані\n",
        "url = \"http://www.sharecsv.com/dl/9c2de61ee08b02b0e62fc28f0d3d6408/Video_Games_Sales_as_at_22_Dec_2016.csv\"\n",
        "\n",
        "\n",
        "df = pd.read_csv(url)\n",
        "\n",
        "\n",
        "df.head()"
      ],
      "execution_count": 14,
      "outputs": [
        {
          "output_type": "execute_result",
          "data": {
            "text/html": [
              "<div>\n",
              "<style scoped>\n",
              "    .dataframe tbody tr th:only-of-type {\n",
              "        vertical-align: middle;\n",
              "    }\n",
              "\n",
              "    .dataframe tbody tr th {\n",
              "        vertical-align: top;\n",
              "    }\n",
              "\n",
              "    .dataframe thead th {\n",
              "        text-align: right;\n",
              "    }\n",
              "</style>\n",
              "<table border=\"1\" class=\"dataframe\">\n",
              "  <thead>\n",
              "    <tr style=\"text-align: right;\">\n",
              "      <th></th>\n",
              "      <th>Name</th>\n",
              "      <th>Platform</th>\n",
              "      <th>Year_of_Release</th>\n",
              "      <th>Genre</th>\n",
              "      <th>Publisher</th>\n",
              "      <th>NA_Sales</th>\n",
              "      <th>EU_Sales</th>\n",
              "      <th>JP_Sales</th>\n",
              "      <th>Other_Sales</th>\n",
              "      <th>Global_Sales</th>\n",
              "      <th>Critic_Score</th>\n",
              "      <th>Critic_Count</th>\n",
              "      <th>User_Score</th>\n",
              "      <th>User_Count</th>\n",
              "      <th>Developer</th>\n",
              "      <th>Rating</th>\n",
              "    </tr>\n",
              "  </thead>\n",
              "  <tbody>\n",
              "    <tr>\n",
              "      <th>0</th>\n",
              "      <td>Wii Sports</td>\n",
              "      <td>Wii</td>\n",
              "      <td>2006.0</td>\n",
              "      <td>Sports</td>\n",
              "      <td>Nintendo</td>\n",
              "      <td>41.36</td>\n",
              "      <td>28.96</td>\n",
              "      <td>3.77</td>\n",
              "      <td>8.45</td>\n",
              "      <td>82.53</td>\n",
              "      <td>76.0</td>\n",
              "      <td>51.0</td>\n",
              "      <td>8</td>\n",
              "      <td>322.0</td>\n",
              "      <td>Nintendo</td>\n",
              "      <td>E</td>\n",
              "    </tr>\n",
              "    <tr>\n",
              "      <th>1</th>\n",
              "      <td>Super Mario Bros.</td>\n",
              "      <td>NES</td>\n",
              "      <td>1985.0</td>\n",
              "      <td>Platform</td>\n",
              "      <td>Nintendo</td>\n",
              "      <td>29.08</td>\n",
              "      <td>3.58</td>\n",
              "      <td>6.81</td>\n",
              "      <td>0.77</td>\n",
              "      <td>40.24</td>\n",
              "      <td>NaN</td>\n",
              "      <td>NaN</td>\n",
              "      <td>NaN</td>\n",
              "      <td>NaN</td>\n",
              "      <td>NaN</td>\n",
              "      <td>NaN</td>\n",
              "    </tr>\n",
              "    <tr>\n",
              "      <th>2</th>\n",
              "      <td>Mario Kart Wii</td>\n",
              "      <td>Wii</td>\n",
              "      <td>2008.0</td>\n",
              "      <td>Racing</td>\n",
              "      <td>Nintendo</td>\n",
              "      <td>15.68</td>\n",
              "      <td>12.76</td>\n",
              "      <td>3.79</td>\n",
              "      <td>3.29</td>\n",
              "      <td>35.52</td>\n",
              "      <td>82.0</td>\n",
              "      <td>73.0</td>\n",
              "      <td>8.3</td>\n",
              "      <td>709.0</td>\n",
              "      <td>Nintendo</td>\n",
              "      <td>E</td>\n",
              "    </tr>\n",
              "    <tr>\n",
              "      <th>3</th>\n",
              "      <td>Wii Sports Resort</td>\n",
              "      <td>Wii</td>\n",
              "      <td>2009.0</td>\n",
              "      <td>Sports</td>\n",
              "      <td>Nintendo</td>\n",
              "      <td>15.61</td>\n",
              "      <td>10.93</td>\n",
              "      <td>3.28</td>\n",
              "      <td>2.95</td>\n",
              "      <td>32.77</td>\n",
              "      <td>80.0</td>\n",
              "      <td>73.0</td>\n",
              "      <td>8</td>\n",
              "      <td>192.0</td>\n",
              "      <td>Nintendo</td>\n",
              "      <td>E</td>\n",
              "    </tr>\n",
              "    <tr>\n",
              "      <th>4</th>\n",
              "      <td>Pokemon Red/Pokemon Blue</td>\n",
              "      <td>GB</td>\n",
              "      <td>1996.0</td>\n",
              "      <td>Role-Playing</td>\n",
              "      <td>Nintendo</td>\n",
              "      <td>11.27</td>\n",
              "      <td>8.89</td>\n",
              "      <td>10.22</td>\n",
              "      <td>1.00</td>\n",
              "      <td>31.37</td>\n",
              "      <td>NaN</td>\n",
              "      <td>NaN</td>\n",
              "      <td>NaN</td>\n",
              "      <td>NaN</td>\n",
              "      <td>NaN</td>\n",
              "      <td>NaN</td>\n",
              "    </tr>\n",
              "  </tbody>\n",
              "</table>\n",
              "</div>"
            ],
            "text/plain": [
              "                       Name Platform  Year_of_Release         Genre Publisher  \\\n",
              "0                Wii Sports      Wii           2006.0        Sports  Nintendo   \n",
              "1         Super Mario Bros.      NES           1985.0      Platform  Nintendo   \n",
              "2            Mario Kart Wii      Wii           2008.0        Racing  Nintendo   \n",
              "3         Wii Sports Resort      Wii           2009.0        Sports  Nintendo   \n",
              "4  Pokemon Red/Pokemon Blue       GB           1996.0  Role-Playing  Nintendo   \n",
              "\n",
              "   NA_Sales  EU_Sales  JP_Sales  Other_Sales  Global_Sales  Critic_Score  \\\n",
              "0     41.36     28.96      3.77         8.45         82.53          76.0   \n",
              "1     29.08      3.58      6.81         0.77         40.24           NaN   \n",
              "2     15.68     12.76      3.79         3.29         35.52          82.0   \n",
              "3     15.61     10.93      3.28         2.95         32.77          80.0   \n",
              "4     11.27      8.89     10.22         1.00         31.37           NaN   \n",
              "\n",
              "   Critic_Count User_Score  User_Count Developer Rating  \n",
              "0          51.0          8       322.0  Nintendo      E  \n",
              "1           NaN        NaN         NaN       NaN    NaN  \n",
              "2          73.0        8.3       709.0  Nintendo      E  \n",
              "3          73.0          8       192.0  Nintendo      E  \n",
              "4           NaN        NaN         NaN       NaN    NaN  "
            ]
          },
          "metadata": {
            "tags": []
          },
          "execution_count": 14
        }
      ]
    },
    {
      "metadata": {
        "id": "M7Cy8VJl2GMv",
        "colab_type": "text"
      },
      "cell_type": "markdown",
      "source": [
        "## Проста випадкова вибірка"
      ]
    },
    {
      "metadata": {
        "id": "B6_Vi3qN2Ne3",
        "colab_type": "code",
        "outputId": "81d083e5-27c0-457d-c095-0f3ca3c84a53",
        "colab": {
          "base_uri": "https://localhost:8080/",
          "height": 351
        }
      },
      "cell_type": "code",
      "source": [
        "def compare_mean(sample):\n",
        "  print(df.mean(), '\\n', sample.mean())\n",
        "  \n",
        "random_sample = df.sample(len(df.index)//3)\n",
        "compare_mean(random_sample)"
      ],
      "execution_count": 15,
      "outputs": [
        {
          "output_type": "stream",
          "text": [
            "Year_of_Release    2006.487356\n",
            "NA_Sales              0.263330\n",
            "EU_Sales              0.145025\n",
            "JP_Sales              0.077602\n",
            "Other_Sales           0.047332\n",
            "Global_Sales          0.533543\n",
            "Critic_Score         68.967679\n",
            "Critic_Count         26.360821\n",
            "User_Count          162.229908\n",
            "dtype: float64 \n",
            " Year_of_Release    2006.465986\n",
            "NA_Sales              0.256734\n",
            "EU_Sales              0.144303\n",
            "JP_Sales              0.078173\n",
            "Other_Sales           0.045327\n",
            "Global_Sales          0.524735\n",
            "Critic_Score         68.832465\n",
            "Critic_Count         26.059568\n",
            "User_Count          153.450501\n",
            "dtype: float64\n"
          ],
          "name": "stdout"
        }
      ]
    },
    {
      "metadata": {
        "id": "2bI_VnoM2Q4S",
        "colab_type": "text"
      },
      "cell_type": "markdown",
      "source": [
        "## Стратифікована вибірка"
      ]
    },
    {
      "metadata": {
        "id": "1xVR9QfZ2WjQ",
        "colab_type": "code",
        "outputId": "88bc1d1d-1721-4960-9672-c0e53fcc476b",
        "colab": {
          "base_uri": "https://localhost:8080/",
          "height": 351
        }
      },
      "cell_type": "code",
      "source": [
        "groups = [pd.DataFrame]*3\n",
        "groups[0] = df[df.Global_Sales < 3]\n",
        "groups[1] = df[(df.Global_Sales >= 3) &\n",
        "                    (df.Global_Sales <= 4)]\n",
        "groups[2] = df[df.Global_Sales > 4]\n",
        "for i,group in enumerate(groups):\n",
        "  groups[i] = groups[i].sample(len(groups[i].index)//3)\n",
        "strat_sample = pd.concat(groups)\n",
        "\n",
        "compare_mean(strat_sample)"
      ],
      "execution_count": 23,
      "outputs": [
        {
          "output_type": "stream",
          "text": [
            "Year_of_Release    2006.487356\n",
            "NA_Sales              0.263330\n",
            "EU_Sales              0.145025\n",
            "JP_Sales              0.077602\n",
            "Other_Sales           0.047332\n",
            "Global_Sales          0.533543\n",
            "Critic_Score         68.967679\n",
            "Critic_Count         26.360821\n",
            "User_Count          162.229908\n",
            "dtype: float64 \n",
            " Year_of_Release    2006.521065\n",
            "NA_Sales              0.262961\n",
            "EU_Sales              0.148277\n",
            "JP_Sales              0.073532\n",
            "Other_Sales           0.048406\n",
            "Global_Sales          0.533439\n",
            "Critic_Score         68.703486\n",
            "Critic_Count         26.079633\n",
            "User_Count          168.202207\n",
            "dtype: float64\n"
          ],
          "name": "stdout"
        }
      ]
    },
    {
      "metadata": {
        "id": "w5FzNMMg2uKc",
        "colab_type": "text"
      },
      "cell_type": "markdown",
      "source": [
        "## Розмах"
      ]
    },
    {
      "metadata": {
        "id": "Tm0SZuc22zlF",
        "colab_type": "code",
        "outputId": "fd855943-cd90-4eb6-95bd-ad1b72703f36",
        "colab": {
          "base_uri": "https://localhost:8080/",
          "height": 33
        }
      },
      "cell_type": "code",
      "source": [
        "R = df['Global_Sales'].max() - df['Global_Sales'].min()\n",
        "R"
      ],
      "execution_count": 18,
      "outputs": [
        {
          "output_type": "execute_result",
          "data": {
            "text/plain": [
              "82.52"
            ]
          },
          "metadata": {
            "tags": []
          },
          "execution_count": 18
        }
      ]
    },
    {
      "metadata": {
        "id": "glYootkq3F_p",
        "colab_type": "text"
      },
      "cell_type": "markdown",
      "source": [
        "## Дисперсія"
      ]
    },
    {
      "metadata": {
        "id": "Fun3lVBd3J0H",
        "colab_type": "code",
        "outputId": "3e3809bc-d6fd-42b2-94dc-ade8d6ce32d6",
        "colab": {
          "base_uri": "https://localhost:8080/",
          "height": 184
        }
      },
      "cell_type": "code",
      "source": [
        "var = df.var()\n",
        "var"
      ],
      "execution_count": 24,
      "outputs": [
        {
          "output_type": "execute_result",
          "data": {
            "text/plain": [
              "Year_of_Release        34.562579\n",
              "NA_Sales                0.661805\n",
              "EU_Sales                0.253294\n",
              "JP_Sales                0.095369\n",
              "Other_Sales             0.034861\n",
              "Global_Sales            2.396103\n",
              "Critic_Score          194.272431\n",
              "Critic_Count          360.259173\n",
              "User_Count         315037.849758\n",
              "dtype: float64"
            ]
          },
          "metadata": {
            "tags": []
          },
          "execution_count": 24
        }
      ]
    },
    {
      "metadata": {
        "id": "XYmj1tAO3XnY",
        "colab_type": "code",
        "outputId": "9d4d19e9-0ba7-4358-e3b9-6d974ef6201a",
        "colab": {
          "base_uri": "https://localhost:8080/",
          "height": 184
        }
      },
      "cell_type": "code",
      "source": [
        "std = df.std()\n",
        "std"
      ],
      "execution_count": 25,
      "outputs": [
        {
          "output_type": "execute_result",
          "data": {
            "text/plain": [
              "Year_of_Release      5.878995\n",
              "NA_Sales             0.813514\n",
              "EU_Sales             0.503283\n",
              "JP_Sales             0.308818\n",
              "Other_Sales          0.186710\n",
              "Global_Sales         1.547935\n",
              "Critic_Score        13.938165\n",
              "Critic_Count        18.980495\n",
              "User_Count         561.282326\n",
              "dtype: float64"
            ]
          },
          "metadata": {
            "tags": []
          },
          "execution_count": 25
        }
      ]
    },
    {
      "metadata": {
        "id": "Nsr3zNVI3c1x",
        "colab_type": "text"
      },
      "cell_type": "markdown",
      "source": [
        "## Квартилі розподілу"
      ]
    },
    {
      "metadata": {
        "id": "xt4h-t7S3gte",
        "colab_type": "code",
        "outputId": "781092ff-8641-4546-bcfa-7c89253959ef",
        "colab": {
          "base_uri": "https://localhost:8080/",
          "height": 364
        }
      },
      "cell_type": "code",
      "source": [
        "df['User_Score'] = pd.to_numeric(df['User_Score'], errors='coerce')\n",
        "df.boxplot(column=['Global_Sales','User_Score'])"
      ],
      "execution_count": 39,
      "outputs": [
        {
          "output_type": "execute_result",
          "data": {
            "text/plain": [
              "<matplotlib.axes._subplots.AxesSubplot at 0x7fb23a1267f0>"
            ]
          },
          "metadata": {
            "tags": []
          },
          "execution_count": 39
        },
        {
          "output_type": "display_data",
          "data": {
            "image/png": "[encoded data removed]",
            "text/plain": [
              "<matplotlib.figure.Figure at 0x7fb23a1888d0>"
            ]
          },
          "metadata": {
            "tags": []
          }
        }
      ]
    },
    {
      "metadata": {
        "id": "nijiQVlu4AYu",
        "colab_type": "text"
      },
      "cell_type": "markdown",
      "source": [
        "## Відповіді на контрольні питання"
      ]
    },
    {
      "metadata": {
        "id": "7puuERWF4GbR",
        "colab_type": "text"
      },
      "cell_type": "markdown",
      "source": [
        "1. Що таке вибірка? Яку вибірку можна назвати репрезентативною ?\n",
        "**Вибірка** - частина нашої ГС (потрібна для того, щоб провести експерименти лише над певною частиною записів. І потім по можливості узагальнити їх на всю ГС). \n",
        "**Репрезентативна вибірка** - вибірка яка є моделлю ГС і відображає її властивості.\n",
        "1. В чому ключова відмінність між стратифікованою та груповою виборками?\n",
        "У стратифікованій вибірці ми розбиваємо ГС на декілька відмінних одна від одної \"страт\" - груп і застосувати метод ПВВ .\n",
        "А у груповій вибірці ми розбиваємо ГС на декілька груп (кластерів). Проте в даному випадку робимо це так, щоб усі кластери були досить схожими між собою. Вибираємо для розгляду лише декілька кластерів і застосовуємо до них метод ПВВ\n",
        "1. В чому полягає критичний недолік розмаху? І чому на вашу думку це є саме критичним недоліком?\n",
        "Критичний недолік розмаху полягає в тому, що він використовує лише 2 крайніх значення.\n",
        "Тому що будь-які зміни цих значень будуть вкрай відчутно відображатись на результаті.\n",
        "1. В чому полягає різниця між дисперсією та середнім квадратичним відхиленням?\n",
        "В тому що середній квадрат відхилень індивідуальних значень показника від його середнього значення, а середнє квадратичне відхилення - наскільки в середньому кожен елемент нашої вибірки відхиляється від середнього значення по даній вибірці.\n",
        "1. За що відповідають квантилі розподілу? Яким чином їх можна найкраще представити?\n",
        "**Квартилі** - 3 точки (значення показника), які ділять впорядковану множину даних на чотири рівних частини. Відповідно: вкінці перших 25% множини знаходиться до 1-а точка, 50% - 2-га точка (медіана), 75% - 3-тя точка.\n",
        "Їх можна чудово розгледіти, побудувавши графік box-plot.\n",
        "1. Що таке міжквартильний розмах ?\n",
        "**Міжквартильний розмах** - різниця між верхньою межею і нижньою межею. Чим більше значення має цей розмах - тим більша варіативність показника.\n",
        "1. Коли дедлайн здачі лаб №1 і що в неї входить?\n",
        "**10 жовтня**. В дедлайн входить 3 частини Вступу в ЕМПІ."
      ]
    },
    {
      "metadata": {
        "id": "_rZhL8-8VUKw",
        "colab_type": "text"
      },
      "cell_type": "markdown",
      "source": [
        "# Практична частина 3"
      ]
    },
    {
      "metadata": {
        "id": "xjks38zPX_xO",
        "colab_type": "code",
        "outputId": "4e05d34d-48bc-43c2-dd1d-d0a9073d5953",
        "colab": {
          "base_uri": "https://localhost:8080/",
          "height": 283
        }
      },
      "cell_type": "code",
      "source": [
        "\n",
        "# підключимо бібліотеку pandas для обробки даних (вона вже встановлена в Colab)\n",
        "import pandas as pd\n",
        "\n",
        "# зазначимо url звідки ми візьмемо дані\n",
        "url = \"http://www.sharecsv.com/dl/9c2de61ee08b02b0e62fc28f0d3d6408/Video_Games_Sales_as_at_22_Dec_2016.csv\"\n",
        "\n",
        "# створимо pandas Dataframe з csv-файлу, який ми отримаємо по вищезазначеному url\n",
        "# Dataframe надасть нам необхідні можливості для обробки даних\n",
        "df = pd.read_csv(url)\n",
        "\n",
        "# відобразимо перші 5 записів у датафреймі\n",
        "df.head()"
      ],
      "execution_count": 28,
      "outputs": [
        {
          "output_type": "execute_result",
          "data": {
            "text/html": [
              "<div>\n",
              "<style scoped>\n",
              "    .dataframe tbody tr th:only-of-type {\n",
              "        vertical-align: middle;\n",
              "    }\n",
              "\n",
              "    .dataframe tbody tr th {\n",
              "        vertical-align: top;\n",
              "    }\n",
              "\n",
              "    .dataframe thead th {\n",
              "        text-align: right;\n",
              "    }\n",
              "</style>\n",
              "<table border=\"1\" class=\"dataframe\">\n",
              "  <thead>\n",
              "    <tr style=\"text-align: right;\">\n",
              "      <th></th>\n",
              "      <th>Name</th>\n",
              "      <th>Platform</th>\n",
              "      <th>Year_of_Release</th>\n",
              "      <th>Genre</th>\n",
              "      <th>Publisher</th>\n",
              "      <th>NA_Sales</th>\n",
              "      <th>EU_Sales</th>\n",
              "      <th>JP_Sales</th>\n",
              "      <th>Other_Sales</th>\n",
              "      <th>Global_Sales</th>\n",
              "      <th>Critic_Score</th>\n",
              "      <th>Critic_Count</th>\n",
              "      <th>User_Score</th>\n",
              "      <th>User_Count</th>\n",
              "      <th>Developer</th>\n",
              "      <th>Rating</th>\n",
              "    </tr>\n",
              "  </thead>\n",
              "  <tbody>\n",
              "    <tr>\n",
              "      <th>0</th>\n",
              "      <td>Wii Sports</td>\n",
              "      <td>Wii</td>\n",
              "      <td>2006.0</td>\n",
              "      <td>Sports</td>\n",
              "      <td>Nintendo</td>\n",
              "      <td>41.36</td>\n",
              "      <td>28.96</td>\n",
              "      <td>3.77</td>\n",
              "      <td>8.45</td>\n",
              "      <td>82.53</td>\n",
              "      <td>76.0</td>\n",
              "      <td>51.0</td>\n",
              "      <td>8</td>\n",
              "      <td>322.0</td>\n",
              "      <td>Nintendo</td>\n",
              "      <td>E</td>\n",
              "    </tr>\n",
              "    <tr>\n",
              "      <th>1</th>\n",
              "      <td>Super Mario Bros.</td>\n",
              "      <td>NES</td>\n",
              "      <td>1985.0</td>\n",
              "      <td>Platform</td>\n",
              "      <td>Nintendo</td>\n",
              "      <td>29.08</td>\n",
              "      <td>3.58</td>\n",
              "      <td>6.81</td>\n",
              "      <td>0.77</td>\n",
              "      <td>40.24</td>\n",
              "      <td>NaN</td>\n",
              "      <td>NaN</td>\n",
              "      <td>NaN</td>\n",
              "      <td>NaN</td>\n",
              "      <td>NaN</td>\n",
              "      <td>NaN</td>\n",
              "    </tr>\n",
              "    <tr>\n",
              "      <th>2</th>\n",
              "      <td>Mario Kart Wii</td>\n",
              "      <td>Wii</td>\n",
              "      <td>2008.0</td>\n",
              "      <td>Racing</td>\n",
              "      <td>Nintendo</td>\n",
              "      <td>15.68</td>\n",
              "      <td>12.76</td>\n",
              "      <td>3.79</td>\n",
              "      <td>3.29</td>\n",
              "      <td>35.52</td>\n",
              "      <td>82.0</td>\n",
              "      <td>73.0</td>\n",
              "      <td>8.3</td>\n",
              "      <td>709.0</td>\n",
              "      <td>Nintendo</td>\n",
              "      <td>E</td>\n",
              "    </tr>\n",
              "    <tr>\n",
              "      <th>3</th>\n",
              "      <td>Wii Sports Resort</td>\n",
              "      <td>Wii</td>\n",
              "      <td>2009.0</td>\n",
              "      <td>Sports</td>\n",
              "      <td>Nintendo</td>\n",
              "      <td>15.61</td>\n",
              "      <td>10.93</td>\n",
              "      <td>3.28</td>\n",
              "      <td>2.95</td>\n",
              "      <td>32.77</td>\n",
              "      <td>80.0</td>\n",
              "      <td>73.0</td>\n",
              "      <td>8</td>\n",
              "      <td>192.0</td>\n",
              "      <td>Nintendo</td>\n",
              "      <td>E</td>\n",
              "    </tr>\n",
              "    <tr>\n",
              "      <th>4</th>\n",
              "      <td>Pokemon Red/Pokemon Blue</td>\n",
              "      <td>GB</td>\n",
              "      <td>1996.0</td>\n",
              "      <td>Role-Playing</td>\n",
              "      <td>Nintendo</td>\n",
              "      <td>11.27</td>\n",
              "      <td>8.89</td>\n",
              "      <td>10.22</td>\n",
              "      <td>1.00</td>\n",
              "      <td>31.37</td>\n",
              "      <td>NaN</td>\n",
              "      <td>NaN</td>\n",
              "      <td>NaN</td>\n",
              "      <td>NaN</td>\n",
              "      <td>NaN</td>\n",
              "      <td>NaN</td>\n",
              "    </tr>\n",
              "  </tbody>\n",
              "</table>\n",
              "</div>"
            ],
            "text/plain": [
              "                       Name Platform  Year_of_Release         Genre Publisher  \\\n",
              "0                Wii Sports      Wii           2006.0        Sports  Nintendo   \n",
              "1         Super Mario Bros.      NES           1985.0      Platform  Nintendo   \n",
              "2            Mario Kart Wii      Wii           2008.0        Racing  Nintendo   \n",
              "3         Wii Sports Resort      Wii           2009.0        Sports  Nintendo   \n",
              "4  Pokemon Red/Pokemon Blue       GB           1996.0  Role-Playing  Nintendo   \n",
              "\n",
              "   NA_Sales  EU_Sales  JP_Sales  Other_Sales  Global_Sales  Critic_Score  \\\n",
              "0     41.36     28.96      3.77         8.45         82.53          76.0   \n",
              "1     29.08      3.58      6.81         0.77         40.24           NaN   \n",
              "2     15.68     12.76      3.79         3.29         35.52          82.0   \n",
              "3     15.61     10.93      3.28         2.95         32.77          80.0   \n",
              "4     11.27      8.89     10.22         1.00         31.37           NaN   \n",
              "\n",
              "   Critic_Count User_Score  User_Count Developer Rating  \n",
              "0          51.0          8       322.0  Nintendo      E  \n",
              "1           NaN        NaN         NaN       NaN    NaN  \n",
              "2          73.0        8.3       709.0  Nintendo      E  \n",
              "3          73.0          8       192.0  Nintendo      E  \n",
              "4           NaN        NaN         NaN       NaN    NaN  "
            ]
          },
          "metadata": {
            "tags": []
          },
          "execution_count": 28
        }
      ]
    },
    {
      "metadata": {
        "id": "gJ0dmZEDaFAT",
        "colab_type": "text"
      },
      "cell_type": "markdown",
      "source": [
        "## z- стандартизація"
      ]
    },
    {
      "metadata": {
        "id": "QFw8F5cLXdVz",
        "colab_type": "code",
        "outputId": "c99cc618-197e-46d2-8891-38de9ed90817",
        "colab": {
          "base_uri": "https://localhost:8080/",
          "height": 283
        }
      },
      "cell_type": "code",
      "source": [
        "df['Global_Sales'] = pd.to_numeric(df['Global_Sales'], errors='coerce')\n",
        "df['User_Score'] = pd.to_numeric(df['User_Score'], errors='coerce')\n",
        "cols = ['User_Score','Global_Sales']\n",
        "for col in cols:\n",
        "    col_zscore = col + '_zsc'\n",
        "    df[col_zscore] = (df[col] - df[col].mean())/df[col].std(ddof=0)\n",
        "df.head()"
      ],
      "execution_count": 40,
      "outputs": [
        {
          "output_type": "execute_result",
          "data": {
            "text/html": [
              "<div>\n",
              "<style scoped>\n",
              "    .dataframe tbody tr th:only-of-type {\n",
              "        vertical-align: middle;\n",
              "    }\n",
              "\n",
              "    .dataframe tbody tr th {\n",
              "        vertical-align: top;\n",
              "    }\n",
              "\n",
              "    .dataframe thead th {\n",
              "        text-align: right;\n",
              "    }\n",
              "</style>\n",
              "<table border=\"1\" class=\"dataframe\">\n",
              "  <thead>\n",
              "    <tr style=\"text-align: right;\">\n",
              "      <th></th>\n",
              "      <th>Name</th>\n",
              "      <th>Platform</th>\n",
              "      <th>Year_of_Release</th>\n",
              "      <th>Genre</th>\n",
              "      <th>Publisher</th>\n",
              "      <th>NA_Sales</th>\n",
              "      <th>EU_Sales</th>\n",
              "      <th>JP_Sales</th>\n",
              "      <th>Other_Sales</th>\n",
              "      <th>Global_Sales</th>\n",
              "      <th>Critic_Score</th>\n",
              "      <th>Critic_Count</th>\n",
              "      <th>User_Score</th>\n",
              "      <th>User_Count</th>\n",
              "      <th>Developer</th>\n",
              "      <th>Rating</th>\n",
              "      <th>User_Score_zsc</th>\n",
              "      <th>Global_Sales_zsc</th>\n",
              "    </tr>\n",
              "  </thead>\n",
              "  <tbody>\n",
              "    <tr>\n",
              "      <th>0</th>\n",
              "      <td>Wii Sports</td>\n",
              "      <td>Wii</td>\n",
              "      <td>2006.0</td>\n",
              "      <td>Sports</td>\n",
              "      <td>Nintendo</td>\n",
              "      <td>41.36</td>\n",
              "      <td>28.96</td>\n",
              "      <td>3.77</td>\n",
              "      <td>8.45</td>\n",
              "      <td>82.53</td>\n",
              "      <td>76.0</td>\n",
              "      <td>51.0</td>\n",
              "      <td>8.0</td>\n",
              "      <td>322.0</td>\n",
              "      <td>Nintendo</td>\n",
              "      <td>E</td>\n",
              "      <td>0.583339</td>\n",
              "      <td>52.973092</td>\n",
              "    </tr>\n",
              "    <tr>\n",
              "      <th>1</th>\n",
              "      <td>Super Mario Bros.</td>\n",
              "      <td>NES</td>\n",
              "      <td>1985.0</td>\n",
              "      <td>Platform</td>\n",
              "      <td>Nintendo</td>\n",
              "      <td>29.08</td>\n",
              "      <td>3.58</td>\n",
              "      <td>6.81</td>\n",
              "      <td>0.77</td>\n",
              "      <td>40.24</td>\n",
              "      <td>NaN</td>\n",
              "      <td>NaN</td>\n",
              "      <td>NaN</td>\n",
              "      <td>NaN</td>\n",
              "      <td>NaN</td>\n",
              "      <td>NaN</td>\n",
              "      <td>NaN</td>\n",
              "      <td>25.652008</td>\n",
              "    </tr>\n",
              "    <tr>\n",
              "      <th>2</th>\n",
              "      <td>Mario Kart Wii</td>\n",
              "      <td>Wii</td>\n",
              "      <td>2008.0</td>\n",
              "      <td>Racing</td>\n",
              "      <td>Nintendo</td>\n",
              "      <td>15.68</td>\n",
              "      <td>12.76</td>\n",
              "      <td>3.79</td>\n",
              "      <td>3.29</td>\n",
              "      <td>35.52</td>\n",
              "      <td>82.0</td>\n",
              "      <td>73.0</td>\n",
              "      <td>8.3</td>\n",
              "      <td>709.0</td>\n",
              "      <td>Nintendo</td>\n",
              "      <td>E</td>\n",
              "      <td>0.783351</td>\n",
              "      <td>22.602694</td>\n",
              "    </tr>\n",
              "    <tr>\n",
              "      <th>3</th>\n",
              "      <td>Wii Sports Resort</td>\n",
              "      <td>Wii</td>\n",
              "      <td>2009.0</td>\n",
              "      <td>Sports</td>\n",
              "      <td>Nintendo</td>\n",
              "      <td>15.61</td>\n",
              "      <td>10.93</td>\n",
              "      <td>3.28</td>\n",
              "      <td>2.95</td>\n",
              "      <td>32.77</td>\n",
              "      <td>80.0</td>\n",
              "      <td>73.0</td>\n",
              "      <td>8.0</td>\n",
              "      <td>192.0</td>\n",
              "      <td>Nintendo</td>\n",
              "      <td>E</td>\n",
              "      <td>0.583339</td>\n",
              "      <td>20.826080</td>\n",
              "    </tr>\n",
              "    <tr>\n",
              "      <th>4</th>\n",
              "      <td>Pokemon Red/Pokemon Blue</td>\n",
              "      <td>GB</td>\n",
              "      <td>1996.0</td>\n",
              "      <td>Role-Playing</td>\n",
              "      <td>Nintendo</td>\n",
              "      <td>11.27</td>\n",
              "      <td>8.89</td>\n",
              "      <td>10.22</td>\n",
              "      <td>1.00</td>\n",
              "      <td>31.37</td>\n",
              "      <td>NaN</td>\n",
              "      <td>NaN</td>\n",
              "      <td>NaN</td>\n",
              "      <td>NaN</td>\n",
              "      <td>NaN</td>\n",
              "      <td>NaN</td>\n",
              "      <td>NaN</td>\n",
              "      <td>19.921623</td>\n",
              "    </tr>\n",
              "  </tbody>\n",
              "</table>\n",
              "</div>"
            ],
            "text/plain": [
              "                       Name Platform  Year_of_Release         Genre Publisher  \\\n",
              "0                Wii Sports      Wii           2006.0        Sports  Nintendo   \n",
              "1         Super Mario Bros.      NES           1985.0      Platform  Nintendo   \n",
              "2            Mario Kart Wii      Wii           2008.0        Racing  Nintendo   \n",
              "3         Wii Sports Resort      Wii           2009.0        Sports  Nintendo   \n",
              "4  Pokemon Red/Pokemon Blue       GB           1996.0  Role-Playing  Nintendo   \n",
              "\n",
              "   NA_Sales  EU_Sales  JP_Sales  Other_Sales  Global_Sales  Critic_Score  \\\n",
              "0     41.36     28.96      3.77         8.45         82.53          76.0   \n",
              "1     29.08      3.58      6.81         0.77         40.24           NaN   \n",
              "2     15.68     12.76      3.79         3.29         35.52          82.0   \n",
              "3     15.61     10.93      3.28         2.95         32.77          80.0   \n",
              "4     11.27      8.89     10.22         1.00         31.37           NaN   \n",
              "\n",
              "   Critic_Count  User_Score  User_Count Developer Rating  User_Score_zsc  \\\n",
              "0          51.0         8.0       322.0  Nintendo      E        0.583339   \n",
              "1           NaN         NaN         NaN       NaN    NaN             NaN   \n",
              "2          73.0         8.3       709.0  Nintendo      E        0.783351   \n",
              "3          73.0         8.0       192.0  Nintendo      E        0.583339   \n",
              "4           NaN         NaN         NaN       NaN    NaN             NaN   \n",
              "\n",
              "   Global_Sales_zsc  \n",
              "0         52.973092  \n",
              "1         25.652008  \n",
              "2         22.602694  \n",
              "3         20.826080  \n",
              "4         19.921623  "
            ]
          },
          "metadata": {
            "tags": []
          },
          "execution_count": 40
        }
      ]
    },
    {
      "metadata": {
        "id": "7ZKQ6nTNZNT4",
        "colab_type": "code",
        "outputId": "e1c10c92-28d9-46f3-be2d-51f66f395c0a",
        "colab": {
          "base_uri": "https://localhost:8080/",
          "height": 361
        }
      },
      "cell_type": "code",
      "source": [
        "hist = df.hist(column=['Global_Sales','Global_Sales_zsc'], bins=40) "
      ],
      "execution_count": 31,
      "outputs": [
        {
          "output_type": "display_data",
          "data": {
            "image/png": "[encoded data removed]",
            "text/plain": [
              "<matplotlib.figure.Figure at 0x7fb23cb1bda0>"
            ]
          },
          "metadata": {
            "tags": []
          }
        }
      ]
    },
    {
      "metadata": {
        "id": "EPL7yrv6aiYM",
        "colab_type": "text"
      },
      "cell_type": "markdown",
      "source": [
        "## Правило 2х-3х Сігм"
      ]
    },
    {
      "metadata": {
        "id": "wbzZFVY-akrr",
        "colab_type": "code",
        "outputId": "f4f0930b-0532-4162-efbc-f8af9f051dde",
        "colab": {
          "base_uri": "https://localhost:8080/",
          "height": 50
        }
      },
      "cell_type": "code",
      "source": [
        "def getSigmaRule(col, num):\n",
        "  exp_ratio = None\n",
        "  if num == 1:\n",
        "    exp_ratio = 0.68\n",
        "  elif num == 2:\n",
        "    exp_ratio = 0.95\n",
        "  elif num == 3:\n",
        "    exp_ratio = 0.997\n",
        "  else:\n",
        "    return print('invalid data')\n",
        "  \n",
        "  lower_bound = df[col].mean()-df[col].std()*num\n",
        "  uppper_bound = df[col].mean()+df[col].std()*num\n",
        "  \n",
        "  valid = df[(df[col] > lower_bound)&(df[col] < uppper_bound)]\n",
        "  ratio = len(valid.index)/len(df.index\n",
        "  print('We expected '+str(exp_ratio)+' ratio and got this one: ' + str(ratio))\n",
        "  \n",
        "\n",
        "getSigmaRule('User_Score', 2)\n",
        "getSigmaRule('Global_Sales', 3)"
      ],
      "execution_count": 32,
      "outputs": [
        {
          "output_type": "stream",
          "text": [
            "We expected 0.95 ratio and got this one: 0.42969077097912556\n",
            "We expected 0.997 ratio and got this one: 0.9886356839523895\n"
          ],
          "name": "stdout"
        }
      ]
    },
    {
      "metadata": {
        "id": "8-AjzJvlaQ6v",
        "colab_type": "text"
      },
      "cell_type": "markdown",
      "source": [
        "## Довірчі інтвервали для середнього значення (ДІ)"
      ]
    },
    {
      "metadata": {
        "id": "bxJYczATaYQR",
        "colab_type": "code",
        "outputId": "2d5e986f-6176-4f90-d0dc-451a14d1849d",
        "colab": {
          "base_uri": "https://localhost:8080/",
          "height": 50
        }
      },
      "cell_type": "code",
      "source": [
        "import math\n",
        "\n",
        "def get_CI(col, percentage):\n",
        "  coef = None\n",
        "  if percentage == 95:\n",
        "    coef = 1.98\n",
        "  elif percentage == 99:\n",
        "    coef = 2.58\n",
        "  else:\n",
        "    return print('invalid data')\n",
        "  se = df[col].std()/math.sqrt(len(df[col].index))\n",
        "  CI_lower = df[col].mean() - se*coef\n",
        "  CI_upper = df[col].mean() + se*coef\n",
        "  print (str(percentage)+ '% confidence interval for '+col +' is '+ str(CI_lower) + ' - ' + str(CI_upper) )\n",
        "  \n",
        "  \n",
        "get_CI('Global_Sales', 95)\n",
        "get_CI('User_Score', 99)"
      ],
      "execution_count": 33,
      "outputs": [
        {
          "output_type": "stream",
          "text": [
            "95% confidence interval for Global_Sales is 0.5098391585942624 - 0.5572461934004743\n",
            "99% confidence interval for User_Score is 7.095116053792633 - 7.15497617282133\n"
          ],
          "name": "stdout"
        }
      ]
    },
    {
      "metadata": {
        "id": "uVNB1Mh8Vdyk",
        "colab_type": "text"
      },
      "cell_type": "markdown",
      "source": [
        "## Відповіді на контрольні запитання"
      ]
    },
    {
      "metadata": {
        "id": "13pwhoPpVn9D",
        "colab_type": "text"
      },
      "cell_type": "markdown",
      "source": [
        "1. Що ви знаєте про нормальний розподіл? Які його характеристики?\n",
        "**Нормальний розподіл** — розподіл ймовірностей випадкової величини, що характеризується густиною ймовірності: \n",
        "\n",
        "\\begin{align} \\LARGE\n",
        "  f(x | \\mu, \\sigma) &= \\dfrac{1}{\\sigma \\sqrt{2\\pi}} e^{-\\dfrac{(x-\\mu)^2}{2 \\sigma^2}} \\\\\n",
        "\\end{align}\n",
        "\n",
        "де $\\large \\mu$ — математичне сподівання, $ \\large  \\sigma ^{2}$ — дисперсія випадкової величини. Параметр $\\large \\sigma$ також відомий, як стандартне відхилення. Розподіл із  $\\large \\mu$= 0 та $\\large \\sigma ^{2}$ = 1 називають **стандартним нормальним розподілом**.\n",
        "1. Що таке z-стандартизація? Навіщо вона потрібна? В чому вона вимірюється? І що, скажімо, означає, якщо z-значення = 1.5\n",
        "**z - стандартизація** — (нормалізація даних) - перетворення отриманих даних, у стандартну Z-шкалу (Z-scores) із такими характеристиками:\n",
        "\n",
        "* середнє значення ($M_z$) відтепер буде = 0;\n",
        "* дисперсія і стандартне відхилення ($D_z$) = 1.\n",
        "\n",
        "\n",
        "---\n",
        "\n",
        "\n",
        "3. Для чого потрібна гістограма?\n",
        "Для того щоб краще було видно різницю між кількома групами значень.\n",
        "\n",
        "---\n",
        "\n",
        "\n",
        "4. В чому суть правила 2-3 Сігм?\n",
        "\n",
        " $M_x \\pm \\sigma \\approx 68$% спостережень;\n",
        " $M_x \\pm 2\\sigma \\approx 95$% спостережень;\n",
        " $M_x \\pm 3\\sigma \\approx 100$% спостережень;\n",
        "\n",
        "\n",
        "---\n",
        "\n",
        "\n",
        "5. В чому основна суть ЦГТ?\n",
        "**Центральна гранична теорема** — теорема теорії ймовірностей про збіжність розподілу суми незалежних однаково розподілених випадкових величин до нормального розподілу. Ця теорема підкреслює особливість нормального розподілу в теорії ймовірностей.\n",
        "1. В чому можуть допомогти довірчі інтервали для середнього? Яке їх призначення?\n",
        " Довірчивий інтервал - це  інтервал, у межах якого з заданою довірчою імовірністю можна чекати значення оцінюваної (шуканої) випадкової величини. Застосовується для повнішої оцінки точності в порівнянні з точковою оцінкою.\n",
        "\n",
        "1. Наскільки необхідно змінити межу нашого довірчого інтервалу, щоб збільшити ймовірність включення середнього з генеральної сукупності у нього з 95% до 99%?\n",
        "**Потрібно збільшити на +- 0.6*se.**"
      ]
    }
  ]
}