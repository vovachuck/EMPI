{
  "nbformat": 4,
  "nbformat_minor": 0,
  "metadata": {
    "colab": {
      "name": "Lakusta_Volodymyr_lab_4.ipynb",
      "version": "0.3.2",
      "provenance": [],
      "collapsed_sections": [],
      "toc_visible": true
    },
    "kernelspec": {
      "name": "python3",
      "display_name": "Python 3"
    }
  },
  "cells": [
    {
      "metadata": {
        "id": "view-in-github",
        "colab_type": "text"
      },
      "cell_type": "markdown",
      "source": [
        "<a href=\"https://colab.research.google.com/github/Den4ik18/EMSE/blob/master/Ohorodnik_Denys_lab_4.ipynb\" target=\"_parent\"><img src=\"https://colab.research.google.com/assets/colab-badge.svg\" alt=\"Open In Colab\"/></a>"
      ]
    },
    {
      "metadata": {
        "id": "nI_6VxXcFCsR",
        "colab_type": "text"
      },
      "cell_type": "markdown",
      "source": [
        "# Ініціалізація датасету"
      ]
    },
    {
      "metadata": {
        "id": "tRz7_r2BFI_p",
        "colab_type": "code",
        "outputId": "283c4e64-7f99-4bff-880f-619117ff0cfe",
        "colab": {
          "base_uri": "https://localhost:8080/",
          "height": 283
        }
      },
      "cell_type": "code",
      "source": [
        "# підключимо бібліотеку pandas для обробки даних (вона вже встановлена в Colab)\n",
        "import pandas as pd\n",
        "\n",
        "# зазначимо url звідки ми візьмемо дані\n",
        "url = \"https://raw.githubusercontent.com/vovachuck/EMPI/master/Video_Games_Sales_as_at_22_Dec_2016.csv\"\n",
        "\n",
        "# створимо pandas Dataframe з csv-файлу, який ми отримаємо по вищезазначеному url\n",
        "# Dataframe надасть нам необхідні можливості для обробки даних\n",
        "df = pd.read_csv(url)\n",
        "\n",
        "# конвертуємо колонку \"Global_Sales\" у числові значення.\n",
        "df['Global_Sales'] = pd.to_numeric(df['Global_Sales'], errors='coerce')  \n",
        "df['User_Score'] = pd.to_numeric(df['User_Score'], errors='coerce') \n",
        "# відобразимо перші 5 записів у датафреймі\n",
        "df.head()"
      ],
      "execution_count": 5,
      "outputs": [
        {
          "output_type": "execute_result",
          "data": {
            "text/html": [
              "<div>\n",
              "<style scoped>\n",
              "    .dataframe tbody tr th:only-of-type {\n",
              "        vertical-align: middle;\n",
              "    }\n",
              "\n",
              "    .dataframe tbody tr th {\n",
              "        vertical-align: top;\n",
              "    }\n",
              "\n",
              "    .dataframe thead th {\n",
              "        text-align: right;\n",
              "    }\n",
              "</style>\n",
              "<table border=\"1\" class=\"dataframe\">\n",
              "  <thead>\n",
              "    <tr style=\"text-align: right;\">\n",
              "      <th></th>\n",
              "      <th>Name</th>\n",
              "      <th>Platform</th>\n",
              "      <th>Year_of_Release</th>\n",
              "      <th>Genre</th>\n",
              "      <th>Publisher</th>\n",
              "      <th>NA_Sales</th>\n",
              "      <th>EU_Sales</th>\n",
              "      <th>JP_Sales</th>\n",
              "      <th>Other_Sales</th>\n",
              "      <th>Global_Sales</th>\n",
              "      <th>Critic_Score</th>\n",
              "      <th>Critic_Count</th>\n",
              "      <th>User_Score</th>\n",
              "      <th>User_Count</th>\n",
              "      <th>Developer</th>\n",
              "      <th>Rating</th>\n",
              "    </tr>\n",
              "  </thead>\n",
              "  <tbody>\n",
              "    <tr>\n",
              "      <th>0</th>\n",
              "      <td>Wii Sports</td>\n",
              "      <td>Wii</td>\n",
              "      <td>2006.0</td>\n",
              "      <td>Sports</td>\n",
              "      <td>Nintendo</td>\n",
              "      <td>41.36</td>\n",
              "      <td>28.96</td>\n",
              "      <td>3.77</td>\n",
              "      <td>8.45</td>\n",
              "      <td>82.53</td>\n",
              "      <td>76.0</td>\n",
              "      <td>51.0</td>\n",
              "      <td>8.0</td>\n",
              "      <td>322.0</td>\n",
              "      <td>Nintendo</td>\n",
              "      <td>E</td>\n",
              "    </tr>\n",
              "    <tr>\n",
              "      <th>1</th>\n",
              "      <td>Super Mario Bros.</td>\n",
              "      <td>NES</td>\n",
              "      <td>1985.0</td>\n",
              "      <td>Platform</td>\n",
              "      <td>Nintendo</td>\n",
              "      <td>29.08</td>\n",
              "      <td>3.58</td>\n",
              "      <td>6.81</td>\n",
              "      <td>0.77</td>\n",
              "      <td>40.24</td>\n",
              "      <td>NaN</td>\n",
              "      <td>NaN</td>\n",
              "      <td>NaN</td>\n",
              "      <td>NaN</td>\n",
              "      <td>NaN</td>\n",
              "      <td>NaN</td>\n",
              "    </tr>\n",
              "    <tr>\n",
              "      <th>2</th>\n",
              "      <td>Mario Kart Wii</td>\n",
              "      <td>Wii</td>\n",
              "      <td>2008.0</td>\n",
              "      <td>Racing</td>\n",
              "      <td>Nintendo</td>\n",
              "      <td>15.68</td>\n",
              "      <td>12.76</td>\n",
              "      <td>3.79</td>\n",
              "      <td>3.29</td>\n",
              "      <td>35.52</td>\n",
              "      <td>82.0</td>\n",
              "      <td>73.0</td>\n",
              "      <td>8.3</td>\n",
              "      <td>709.0</td>\n",
              "      <td>Nintendo</td>\n",
              "      <td>E</td>\n",
              "    </tr>\n",
              "    <tr>\n",
              "      <th>3</th>\n",
              "      <td>Wii Sports Resort</td>\n",
              "      <td>Wii</td>\n",
              "      <td>2009.0</td>\n",
              "      <td>Sports</td>\n",
              "      <td>Nintendo</td>\n",
              "      <td>15.61</td>\n",
              "      <td>10.93</td>\n",
              "      <td>3.28</td>\n",
              "      <td>2.95</td>\n",
              "      <td>32.77</td>\n",
              "      <td>80.0</td>\n",
              "      <td>73.0</td>\n",
              "      <td>8.0</td>\n",
              "      <td>192.0</td>\n",
              "      <td>Nintendo</td>\n",
              "      <td>E</td>\n",
              "    </tr>\n",
              "    <tr>\n",
              "      <th>4</th>\n",
              "      <td>Pokemon Red/Pokemon Blue</td>\n",
              "      <td>GB</td>\n",
              "      <td>1996.0</td>\n",
              "      <td>Role-Playing</td>\n",
              "      <td>Nintendo</td>\n",
              "      <td>11.27</td>\n",
              "      <td>8.89</td>\n",
              "      <td>10.22</td>\n",
              "      <td>1.00</td>\n",
              "      <td>31.37</td>\n",
              "      <td>NaN</td>\n",
              "      <td>NaN</td>\n",
              "      <td>NaN</td>\n",
              "      <td>NaN</td>\n",
              "      <td>NaN</td>\n",
              "      <td>NaN</td>\n",
              "    </tr>\n",
              "  </tbody>\n",
              "</table>\n",
              "</div>"
            ],
            "text/plain": [
              "                       Name Platform  Year_of_Release         Genre Publisher  \\\n",
              "0                Wii Sports      Wii           2006.0        Sports  Nintendo   \n",
              "1         Super Mario Bros.      NES           1985.0      Platform  Nintendo   \n",
              "2            Mario Kart Wii      Wii           2008.0        Racing  Nintendo   \n",
              "3         Wii Sports Resort      Wii           2009.0        Sports  Nintendo   \n",
              "4  Pokemon Red/Pokemon Blue       GB           1996.0  Role-Playing  Nintendo   \n",
              "\n",
              "   NA_Sales  EU_Sales  JP_Sales  Other_Sales  Global_Sales  Critic_Score  \\\n",
              "0     41.36     28.96      3.77         8.45         82.53          76.0   \n",
              "1     29.08      3.58      6.81         0.77         40.24           NaN   \n",
              "2     15.68     12.76      3.79         3.29         35.52          82.0   \n",
              "3     15.61     10.93      3.28         2.95         32.77          80.0   \n",
              "4     11.27      8.89     10.22         1.00         31.37           NaN   \n",
              "\n",
              "   Critic_Count  User_Score  User_Count Developer Rating  \n",
              "0          51.0         8.0       322.0  Nintendo      E  \n",
              "1           NaN         NaN         NaN       NaN    NaN  \n",
              "2          73.0         8.3       709.0  Nintendo      E  \n",
              "3          73.0         8.0       192.0  Nintendo      E  \n",
              "4           NaN         NaN         NaN       NaN    NaN  "
            ]
          },
          "metadata": {
            "tags": []
          },
          "execution_count": 5
        }
      ]
    },
    {
      "metadata": {
        "id": "gw95hc7qFLVf",
        "colab_type": "text"
      },
      "cell_type": "markdown",
      "source": [
        "# Кореляція та p-рівень значимості"
      ]
    },
    {
      "metadata": {
        "id": "JD-GfdvuGcy6",
        "colab_type": "code",
        "outputId": "889531e2-0da5-4d9e-f075-9a718cba2087",
        "colab": {
          "base_uri": "https://localhost:8080/",
          "height": 33
        }
      },
      "cell_type": "code",
      "source": [
        "# Приклад обчислення коефіцієнта кореляції Пірсона та p-рівня значимості за допомогою scipy.stats\n",
        "import pandas as pd \n",
        "from scipy import stats\n",
        "\n",
        "#Заміна всім NaN на 0.0\n",
        "df['Global_Sales'].fillna(0.0,inplace=True)\n",
        "df['User_Score'].fillna(0.0,inplace=True)\n",
        "\n",
        "\n",
        "ddf = pd.DataFrame(df, columns = ['Global_Sales','User_Score'])\n",
        "ddf.fillna(0,inplace = True)\n",
        "ddf.head()\n",
        "pearson_coef, p_value = stats.pearsonr(ddf['Global_Sales'], ddf['User_Score'])\n",
        "print(\"Pearson Correlation Coefficient: \", pearson_coef, \"and a P-value of:\", p_value) \n",
        "#Дане p-значення говорить там про те що нульова гіпотеза відхиляється.\n",
        "#Чим менше p-рівень, тим більш значущою називається тестова статистика. \n",
        "#Чим менше p-рівень, тим сильніше підстави відкинути нульову гіпотезу.\n",
        "#Адже p-значення більше рівня значимості \n"
      ],
      "execution_count": 6,
      "outputs": [
        {
          "output_type": "stream",
          "text": [
            "Pearson Correlation Coefficient:  0.13632138661178056 and a P-value of: 3.6359968200444376e-70\n"
          ],
          "name": "stdout"
        }
      ]
    },
    {
      "metadata": {
        "id": "uua4LuVTJ61g",
        "colab_type": "code",
        "outputId": "c5a494d3-9134-43f3-efd0-beb3d76665c2",
        "colab": {
          "base_uri": "https://localhost:8080/",
          "height": 33
        }
      },
      "cell_type": "code",
      "source": [
        "#Перевірка чи вірно попередній метод рахує Correlation Coefficient\n",
        "try:\n",
        "    from itertools import imap\n",
        "except ImportError:\n",
        "    imap=map\n",
        "\n",
        "\n",
        "def pearsonr(x, y):\n",
        "\n",
        "  n = len(x)\n",
        "  sum_x = float(sum(x))\n",
        "  sum_y = float(sum(y))\n",
        "  sum_x_sq = sum(map(lambda x: pow(x, 2), x))\n",
        "  sum_y_sq = sum(map(lambda x: pow(x, 2), y))\n",
        "  psum = sum(imap(lambda x, y: x * y, x, y))\n",
        "  num = psum - (sum_x * sum_y/n)\n",
        "  den = pow((sum_x_sq - pow(sum_x, 2) / n) * (sum_y_sq - pow(sum_y, 2) / n), 0.5)\n",
        "  if den == 0: return 0\n",
        "  return num / den\n",
        "pearsonr(df['User_Score'].tolist(), df['Global_Sales'].tolist())"
      ],
      "execution_count": 7,
      "outputs": [
        {
          "output_type": "execute_result",
          "data": {
            "text/plain": [
              "0.13632138661174817"
            ]
          },
          "metadata": {
            "tags": []
          },
          "execution_count": 7
        }
      ]
    },
    {
      "metadata": {
        "id": "uBZoPwAMGzpU",
        "colab_type": "text"
      },
      "cell_type": "markdown",
      "source": [
        "# Регресія"
      ]
    },
    {
      "metadata": {
        "id": "wEM-fzRsG34C",
        "colab_type": "code",
        "outputId": "34eaf8af-a0cc-43a6-a077-5748e0f40fb2",
        "colab": {
          "base_uri": "https://localhost:8080/",
          "height": 377
        }
      },
      "cell_type": "code",
      "source": [
        "import numpy as np\n",
        "import random\n",
        "from sklearn import datasets, linear_model\n",
        "import matplotlib.pyplot as plt\n",
        "\n",
        "#Заміна NaN на 0.0\n",
        "df['Global_Sales'].fillna(0.0, inplace=True)\n",
        "df['User_Score'].fillna(0.0, inplace=True)\n",
        "x = df['Global_Sales'].values\n",
        "y = df['User_Score'].values\n",
        "\n",
        "length = int(len(x)*20/100)\n",
        "\n",
        "X = x.reshape(df['Global_Sales'].shape[0], 1)\n",
        "Y = y.reshape(df['User_Score'].shape[0], 1)\n",
        "X_train = X[:3000]\n",
        "X_test = X[np.random.choice(X.shape[0], length, replace=False), :]\n",
        "Y_train = Y[:3000]\n",
        "Y_test = Y[np.random.choice(Y.shape[0], length, replace=False), :]\n",
        "\n",
        "\n",
        "regr = linear_model.LinearRegression()\n",
        "regr.fit(X, Y)\n",
        "\n",
        "plt.title('Результат регресії на всьому об\\'єму даних')\n",
        "plt.xlabel('Global_Sales')\n",
        "plt.ylabel('User_Score')\n",
        "\n",
        "plt.scatter(X_test, Y_test,  color='black')\n",
        "plt.plot(X, regr.predict(X), color='blue', linewidth=3)\n",
        "plt.show()"
      ],
      "execution_count": 8,
      "outputs": [
        {
          "output_type": "display_data",
          "data": {
            "image/png": "[encoded data removed]",
            "text/plain": [
              "<matplotlib.figure.Figure at 0x7f4538f3ac18>"
            ]
          },
          "metadata": {
            "tags": []
          }
        }
      ]
    },
    {
      "metadata": {
        "id": "pI3iLGvKIPzF",
        "colab_type": "code",
        "outputId": "3c7b0586-5201-40ca-8948-13057131af15",
        "colab": {
          "base_uri": "https://localhost:8080/",
          "height": 380
        }
      },
      "cell_type": "code",
      "source": [
        "# Create linear regression object\n",
        "regr = linear_model.LinearRegression()\n",
        " \n",
        "# Train the model using the training sets\n",
        "regr.fit(X_train, Y_train)\n",
        " \n",
        "# Plot outputs\n",
        "plt.title('Результат регресії на тестовій вибірці')\n",
        "plt.plot(X_test, regr.predict(X_test), color='red',linewidth=3)"
      ],
      "execution_count": 10,
      "outputs": [
        {
          "output_type": "execute_result",
          "data": {
            "text/plain": [
              "[<matplotlib.lines.Line2D at 0x7f453223a208>]"
            ]
          },
          "metadata": {
            "tags": []
          },
          "execution_count": 10
        },
        {
          "output_type": "display_data",
          "data": {
            "image/png": "[encoded data removed]",
            "text/plain": [
              "<matplotlib.figure.Figure at 0x7f4538fa4be0>"
            ]
          },
          "metadata": {
            "tags": []
          }
        }
      ]
    },
    {
      "metadata": {
        "id": "nbn5GEflIhZJ",
        "colab_type": "text"
      },
      "cell_type": "markdown",
      "source": [
        "# Контрольні запитання\n",
        "1. Опишіть заради якої мети використовують кореляцію та регресію. Які сильні сторони цих інструментів? Які \"підводні камені\"?"
      ]
    },
    {
      "metadata": {
        "id": "oQc2KWr5ziff",
        "colab_type": "text"
      },
      "cell_type": "markdown",
      "source": [
        "Кореляцію застосовують для того щоб досліджувати взаємозв'язок двох кількісних змінних. Регресію застосовують для того щоб досліджувати звязок між двома або більше значенями.\n",
        "\"Підводні камені\": \n",
        "1.   Помилка кореляції: додатний або від'ємний (позитивний/негативний) взаємозв'язок між 2 змінними не обов'язоково вказує, на причинно-наслідковий зв'язок.\n",
        "2.   Вплив третьої змінної на дві інші.\n",
        "3.   Трохи важко підібрати 2 параметри для регресії, щоб вони максимально адекватно відображали взаємозв'язок 2х кількісних змінних.\n",
        "4.   Небезпечність викидів критичних значень."
      ]
    }
  ]
}